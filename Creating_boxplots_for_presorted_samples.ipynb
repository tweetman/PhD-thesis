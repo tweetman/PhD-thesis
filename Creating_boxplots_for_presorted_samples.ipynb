{
 "cells": [
  {
   "cell_type": "code",
   "execution_count": 20,
   "metadata": {},
   "outputs": [
    {
     "name": "stderr",
     "output_type": "stream",
     "text": [
      "C:\\Users\\heynem.BGU-USERS\\AppData\\Local\\Continuum\\anaconda3\\lib\\site-packages\\numpy\\core\\fromnumeric.py:2957: RuntimeWarning: Mean of empty slice.\n",
      "  out=out, **kwargs)\n",
      "C:\\Users\\heynem.BGU-USERS\\AppData\\Local\\Continuum\\anaconda3\\lib\\site-packages\\numpy\\core\\_methods.py:80: RuntimeWarning: invalid value encountered in double_scalars\n",
      "  ret = ret.dtype.type(ret / rcount)\n"
     ]
    },
    {
     "data": {
      "image/png": "[encoded data removed]",
      "text/plain": [
       "<matplotlib.figure.Figure at 0xcf5dd6d68>"
      ]
     },
     "metadata": {},
     "output_type": "display_data"
    },
    {
     "data": {
      "image/png": "[encoded data removed]",
      "text/plain": [
       "<matplotlib.figure.Figure at 0xcf909bac8>"
      ]
     },
     "metadata": {},
     "output_type": "display_data"
    }
   ],
   "source": [
    "import matplotlib.pyplot as plt\n",
    "import openpyxl as xl\n",
    "import os\n",
    "import numpy as np\n",
    "import math\n",
    "%matplotlib inline\n",
    "\n",
    "def OpenExcel (file_name):\n",
    "    os.chdir('G:/Promotion/Matlab/Data/NGS_2.Unsorted_libraries')\n",
    "    wb = xl.load_workbook(file_name,data_only=True, read_only=True)\n",
    "    ws = wb['Results']\n",
    "    data = []\n",
    "    i = 0\n",
    "    for rowOfCellObjects in ws['C5':'C25']:\n",
    "        for cellObj in rowOfCellObjects:\n",
    "            i+= int(cellObj.value)\n",
    "    for rowOfCellObjects in ws['C5':'BD25']: #'C5':'BD25'\n",
    "        for cellObj in rowOfCellObjects:\n",
    "            if int(cellObj.value) > 250:\n",
    "                data.append(int(cellObj.value)/i)\n",
    "            else:\n",
    "                data.append(int(-1))\n",
    "    return data\n",
    "\n",
    "def StdFreq (d1, d2, d3):\n",
    "    freq_std = []\n",
    "    for i in range(len(d1)):\n",
    "        a = []\n",
    "        if d1[i] > -1:\n",
    "            a.append(d1[i])\n",
    "        if d2[i] > -1:\n",
    "            a.append(d2[i])\n",
    "        if d3[i] > -1:\n",
    "            a.append(d3[i])\n",
    "        if len(a) > 1:\n",
    "            freq_std.append(np.std(a))\n",
    "    return freq_std\n",
    "\n",
    "\n",
    "def StdFreq6 (d1, d2, d3, d4, d5, d6):\n",
    "    matrix1 = Means(d1, d2, d3)\n",
    "    matrix2 = Means(d4, d5, d6)\n",
    "    stds = []\n",
    "    for i in range(len(matrix1)):\n",
    "        a = []\n",
    "        if not math.isnan(matrix1[i]):\n",
    "            a.append(matrix1[i])\n",
    "        if not math.isnan(matrix2[i]):\n",
    "            a.append(matrix2[i])\n",
    "        if len(a) > 1:\n",
    "            stds.append(np.std(a))\n",
    "    return stds\n",
    "\n",
    "def Means (d1, d2, d3):\n",
    "    matrix = [d1, d2, d3]\n",
    "    means = []\n",
    "    for i in range(len(matrix[0])):\n",
    "        a = []\n",
    "        for j in range(len(matrix)):\n",
    "            if matrix[j][i] > -1:\n",
    "                a.append(matrix[j][i])\n",
    "        means.append(np.mean(a))\n",
    "    return means\n",
    "\n",
    "\n",
    "d1 = OpenExcel('P1 results.xlsx')\n",
    "d2 = OpenExcel('P2 results.xlsx')\n",
    "d3 = OpenExcel('P3 results.xlsx')\n",
    "\n",
    "d4 = OpenExcel('P4 results.xlsx')\n",
    "d5 = OpenExcel('P5 results.xlsx')\n",
    "d6 = OpenExcel('P6 results.xlsx')\n",
    "\n",
    "d7 = OpenExcel('P7 results.xlsx')\n",
    "d8 = OpenExcel('P8 results.xlsx')\n",
    "d9 = OpenExcel('P9 results.xlsx')\n",
    "\n",
    "freq_std_0sort_SD = StdFreq(d1,d2,d3)\n",
    "freq_std_0sort_SG = StdFreq(d4,d5,d6)\n",
    "freq_std_presorted = StdFreq(d7,d8,d9)\n",
    "\n",
    "freq_std_0sort_presort_cMyc = StdFreq6(d1,d2,d3,d7,d8,d9)\n",
    "freq_std_0sort_SD_SG = StdFreq6(d1,d2,d3,d4,d5,d6)\n",
    "freq_std_0sort_presort_cMyc_SG = StdFreq6(d4,d5,d6,d7,d8,d9)\n",
    "\n",
    "data = [freq_std_0sort_presort_cMyc, freq_std_0sort_SD_SG,freq_std_0sort_presort_cMyc_SG]\n",
    "\n",
    "plt.boxplot(data, notch=True, showfliers=False, labels=['presort vs. cMyc sort SD','SD vs. SG','presort vs. cMyc sort SG'] )\n",
    "plt.ylabel('Standard Deviations of variant frequencies')\n",
    "\n",
    "plt.figure()\n",
    "data2 = [freq_std_0sort_SD, freq_std_0sort_SG, freq_std_presorted, freq_std_0sort_SD_SG]\n",
    "plt.boxplot(data2, whis=[10,90], notch=True, showfliers=False, labels=['0sort SD','0sort SG','presort', 'SD vs. SG'] )\n",
    "plt.ylabel('Standard Deviations of variant frequencies')\n",
    "plt.show()\n",
    "#plt.savefig('10.png', bbox_inches='tight')"
   ]
  },
  {
   "cell_type": "code",
   "execution_count": 54,
   "metadata": {},
   "outputs": [
    {
     "name": "stdout",
     "output_type": "stream",
     "text": [
      "1\n",
      "3\n",
      "2\n",
      "6\n",
      "4\n",
      "12\n",
      "3\n"
     ]
    }
   ],
   "source": [
    "a1 = [1, 2, 4]\n",
    "a2 = [3, 6, 12]\n",
    "a = [a1,a2]\n",
    "for j in range(len(a[0])):\n",
    "    for i in range(len(a)):\n",
    "        print(a[i][j])\n",
    "print(len(a[1]))"
   ]
  },
  {
   "cell_type": "code",
   "execution_count": null,
   "metadata": {},
   "outputs": [],
   "source": []
  }
 ],
 "metadata": {
  "kernelspec": {
   "display_name": "Python 3",
   "language": "python",
   "name": "python3"
  },
  "language_info": {
   "codemirror_mode": {
    "name": "ipython",
    "version": 3
   },
   "file_extension": ".py",
   "mimetype": "text/x-python",
   "name": "python",
   "nbconvert_exporter": "python",
   "pygments_lexer": "ipython3",
   "version": "3.6.4"
  }
 },
 "nbformat": 4,
 "nbformat_minor": 2
}
