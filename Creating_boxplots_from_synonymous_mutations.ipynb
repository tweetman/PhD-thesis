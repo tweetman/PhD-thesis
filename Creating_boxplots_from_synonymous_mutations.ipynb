{
 "cells": [
  {
   "cell_type": "code",
   "execution_count": 37,
   "metadata": {},
   "outputs": [
    {
     "data": {
      "image/png": "[encoded data removed]",
      "text/plain": [
       "<matplotlib.figure.Figure at 0xab22bdf208>"
      ]
     },
     "metadata": {},
     "output_type": "display_data"
    }
   ],
   "source": [
    "import matplotlib.pyplot as plt\n",
    "import openpyxl as xl\n",
    "import os\n",
    "%matplotlib inline\n",
    "\n",
    "def OpenExcel (file_name):\n",
    "    os.chdir('G:/Promotion/Matlab/Data/NGS_4.Chymotrypsin/Synonymous Mutations')\n",
    "    wb = xl.load_workbook(file_name,data_only=True, read_only=True)\n",
    "    ws = wb['Results']\n",
    "    data = []\n",
    "    count = 1\n",
    "    for row in ws.rows:\n",
    "        if count < 5:\n",
    "            count += 1\n",
    "            continue\n",
    "        for cell in row:\n",
    "            try: \n",
    "                float(cell.value)\n",
    "            except:\n",
    "                continue\n",
    "            if not cell.value == 0:\n",
    "                data.append(cell.value)\n",
    "\n",
    "    return data\n",
    "\n",
    "data = OpenExcel('Ch1_WT_results_10.xlsx')\n",
    "d2 = OpenExcel('Ch2_WT_results_10.xlsx')\n",
    "d3 = OpenExcel('Ch3_WT_results_10.xlsx')\n",
    "d4 = OpenExcel('Ch4_WT_results_10.xlsx')\n",
    "            \n",
    "\n",
    "\n",
    "# notched plot\n",
    "#plt.figure()\n",
    "#plt.boxplot(data, notch=True, showfliers=False)\n",
    "\n",
    "\n",
    "\n",
    "data = [data, d2, d3, d4]\n",
    "# multiple box plots on one figure\n",
    "plt.figure()\n",
    "plt.boxplot(data, notch=True, showfliers=False, labels=['Ch1','Ch2','Ch3','Ch4'] )\n",
    "\n",
    "#plt.show()\n",
    "plt.savefig('10.png', bbox_inches='tight')"
   ]
  },
  {
   "cell_type": "code",
   "execution_count": null,
   "metadata": {},
   "outputs": [],
   "source": []
  }
 ],
 "metadata": {
  "kernelspec": {
   "display_name": "Python 3",
   "language": "python",
   "name": "python3"
  },
  "language_info": {
   "codemirror_mode": {
    "name": "ipython",
    "version": 3
   },
   "file_extension": ".py",
   "mimetype": "text/x-python",
   "name": "python",
   "nbconvert_exporter": "python",
   "pygments_lexer": "ipython3",
   "version": "3.6.4"
  }
 },
 "nbformat": 4,
 "nbformat_minor": 2
}
